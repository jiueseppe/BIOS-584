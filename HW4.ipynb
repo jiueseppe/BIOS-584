{
 "cells": [
  {
   "cell_type": "markdown",
   "metadata": {},
   "source": [
    "# HW4 (20')"
   ]
  },
  {
   "cell_type": "markdown",
   "metadata": {},
   "source": [
    "## Submit as an HTML or PDF file"
   ]
  },
  {
   "cell_type": "markdown",
   "metadata": {},
   "source": [
    "Print your name (First Name and Last Name) below."
   ]
  },
  {
   "cell_type": "code",
   "execution_count": 1,
   "metadata": {},
   "outputs": [
    {
     "name": "stdout",
     "output_type": "stream",
     "text": [
      "Joseph Lee\n"
     ]
    }
   ],
   "source": [
    "print(\"Joseph Lee\")"
   ]
  },
  {
   "cell_type": "markdown",
   "metadata": {},
   "source": [
    "- Import `numpy` and `matplotlib` libraries. Pay attention to the alias."
   ]
  },
  {
   "cell_type": "code",
   "execution_count": 2,
   "metadata": {},
   "outputs": [],
   "source": [
    "import numpy as np\n",
    "import matplotlib.pyplot as plt"
   ]
  },
  {
   "cell_type": "markdown",
   "metadata": {},
   "source": [
    "## 1. For loops to count conditional statements (5')\n",
    "\n",
    "- Previously, we introduce generating normal vectors using `np.random.normal()`. \n",
    "- Set the seed value as `100`. (1')\n",
    "- Generate a random vector that follows a univariate normal distribution with a zero mean and a unit variance with a sample size of `1000` and rename it as `norm_vec`. (1')\n",
    "- Define an empty list called `eligible_ls`.\n",
    "- Write a for loop that iterate the entire 1000 samples. Append the value `True` to `eligible_ls` if each random variable lies between $-1.96$ and $1.96$, and `False` otherwise. (2')\n",
    "- Print out the first five elements of `norm_vec` and `eligible_ls`. (1')"
   ]
  },
  {
   "cell_type": "code",
   "execution_count": 3,
   "metadata": {},
   "outputs": [
    {
     "name": "stdout",
     "output_type": "stream",
     "text": [
      "[-1.74976547  0.3426804   1.1530358  -0.25243604  0.98132079]\n",
      "[True, True, True, True, True]\n"
     ]
    }
   ],
   "source": [
    "#Set seed value as 100\n",
    "np.random.seed(100)\n",
    "\n",
    "#Generate a random vector that follows a univariate normal distribution with a zero mean and a unit variance with a sample size of 1000 and rename it as norm_vec.\n",
    "norm_vec = np.random.normal(loc=0, scale=1, size=1000)\n",
    "\n",
    "eligible_ls=[]\n",
    "\n",
    "for value in norm_vec:\n",
    "    if -1.96 <= value <= 1.96:\n",
    "        eligible_ls.append(True)\n",
    "    else: \n",
    "        eligible_ls.append(False)\n",
    "\n",
    "print(norm_vec[:5])\n",
    "print(eligible_ls[:5])\n"
   ]
  },
  {
   "cell_type": "markdown",
   "metadata": {},
   "source": [
    "## 2. This is a follow-up to question 1. (5')\n",
    "\n",
    "- If you run ```np.sum(list_eligible)```, what value is Python assigning to ```True``` or ```False``` elements in the sum? Write you answer as a comment. (1')\n",
    "- Assign a variable `eligible_sum` to the previous output.\n",
    "- Print out the type of the output above. (1')\n",
    "- Convert it to an integer using `int` instead of the previous type. Print out the corresponding value and type. (1')\n",
    "- Calculate the sample size of numbers who are outside $[-1.96, 1.96]$ using at least **two** methods. (2')\n",
    "    - You can use subtraction directly.\n",
    "    - Convert `True` and `False` to $1$ and $0$, respectively; Reverse $0$ and $1$ and calculate the corresponding sum."
   ]
  },
  {
   "cell_type": "code",
   "execution_count": 4,
   "metadata": {},
   "outputs": [
    {
     "name": "stdout",
     "output_type": "stream",
     "text": [
      "937\n",
      "eligible_sum type: <class 'numpy.int64'>\n",
      "937\n",
      "type after conversion: <class 'int'>\n",
      "Outside sample (method 1): 63\n",
      "Outside sample (method 2): 63\n"
     ]
    }
   ],
   "source": [
    "np.sum(eligible_ls)\n",
    "print(np.sum(eligible_ls))\n",
    "#If you run np.sum(eligible_ls), Python assigns True = 1 and False = 0. \n",
    "\n",
    "eligible_sum = np.sum(eligible_ls)\n",
    "print (\"eligible_sum type:\", type(eligible_sum))\n",
    "\n",
    "#Convert it to an integer using int instead of the previous type. Print out the corresponding value and type. \n",
    "eligible_sum = int(eligible_sum)\n",
    "print(eligible_sum)\n",
    "print(\"type after conversion:\", type(eligible_sum))\n",
    "\n",
    "#Calculate the sample size of numbers who are outside [-1.96, 1.96] using at least two methods. \n",
    "\n",
    "#1. Subtraction\n",
    "outside_sample1 = 1000 - eligible_sum\n",
    "print(\"Outside sample (method 1):\", outside_sample1)\n",
    "\n",
    "#2. Convert True and False to 1 and 0, respectively; Reverse 0 and 1 and calculate the corresponding sum.\n",
    "outside_sample2 = np.sum(~np.array(eligible_ls))\n",
    "print(\"Outside sample (method 2):\", outside_sample2)"
   ]
  },
  {
   "cell_type": "markdown",
   "metadata": {},
   "source": [
    "## 3. For-Loops + Plotting (5')\n",
    "\n",
    "- Create an array of x-values with all the integers between 1 and 5, denoted as `x_vec`. Do not manually write out $1,2,\\cdots,5$. (1')\n",
    "- Create a vector ```y1_vec``` where each element is computed from the formula $ y_1 = x^2 + x^{-2}$. (1')\n",
    "- Create a vector ```y2_vec``` where each element is computed from the formula $ y_2 = \\log(x)$. (1')\n",
    "- Create an object ```list_vectors``` with elements ```vec_y1``` and ```vec_y2```.\n",
    "- Create a for-loop that goes through each element of ```list_vectors``` and plots each list of $y$ values against $x$. (2')\n",
    "\n",
    "Note: The final output should be a 2 dimensional scatter plot with two sets of points, with the $y_1$ and $y_2$ on the vertical axis, and the $x$ values on the horizontal axis. X-axes are labelled as `x`. Y-axes are labelled as `y1` and `y2`, respectively. Titles are labelled as `Scatterplot 1` and `Scatterplot 2`, respectively. Those labeling process should be written inside the for loop for automation workflows."
   ]
  },
  {
   "cell_type": "code",
   "execution_count": 9,
   "metadata": {},
   "outputs": [
    {
     "name": "stdout",
     "output_type": "stream",
     "text": [
      "[1 2 3 4 5]\n"
     ]
    },
    {
     "data": {
      "image/png": "[encoded data removed]",
      "text/plain": [
       "<Figure size 640x480 with 1 Axes>"
      ]
     },
     "metadata": {},
     "output_type": "display_data"
    },
    {
     "data": {
      "image/png": "[encoded data removed]",
      "text/plain": [
       "<Figure size 640x480 with 1 Axes>"
      ]
     },
     "metadata": {},
     "output_type": "display_data"
    }
   ],
   "source": [
    "# Create an array of x-values with all the integers between 1 and 5, denoted as x_vec\n",
    "x_vec = np.arange(1,6)\n",
    "print(x_vec)\n",
    "\n",
    "#Create a vector y1_vec and y2_vec\n",
    "y1_vec = x_vec**2 + 1/(x_vec**(2))\n",
    "y2_vec = np.log(x_vec)\n",
    "\n",
    "#Create an object list_vectors with elements vec_y1 and vec_y2.\n",
    "list_vectors = [y1_vec, y2_vec]\n",
    "\n",
    "#Create a for-loop that goes through each element of list_vectors and plots each list of y values against x.\n",
    "for i, y in enumerate(list_vectors):\n",
    "    plt.scatter(x_vec, y)\n",
    "    plt.ylabel(\"y\" + str(i+1))\n",
    "    plt.title(\"Scatterplot \" + str(i+1))\n",
    "    plt.show()\n"
   ]
  },
  {
   "cell_type": "markdown",
   "metadata": {},
   "source": [
    "## 4. While Loops (5')\n",
    "\n",
    "Write a program to generate the Fibonacci sequence between $0$ and $1000$.<br>\n",
    "A Fibonacci sequence is a sequence in which each element is the sum of the two elements that precede it.\n",
    "Define initial values `a=0, b=1`, then the next value is `a+b=1`, so on.\n",
    "The first six values of a Fibonacci sequence given the above initialization is `0,1,1,2,3,5`.\n",
    "\n",
    "- Create a list `f_ls` that saves the first two initialized values $0$ and $1$.\n",
    "- Create a `count_id` that can evaluate the last element of the list `f_ls` and define the value as 1. \n",
    "    - Q: Why do we initialize `count_id` as 1 here?\n",
    "    - (**Note for TA:** (1') for initialization `f_ls` and `count_id`)\n",
    "- The condition for the while loop is to evaluate whether the last element of `f_ls` is smaller than $1000$. (1')\n",
    "- If we pass the while condition, we use the `append` function to compute the next element by summing up the previous two elements. (1')\n",
    "- Remember to increase `count_id` by 1. (1')\n",
    "- Print out the final list. Make sure the largest value is smaller than $1000$. (1')"
   ]
  },
  {
   "cell_type": "code",
   "execution_count": 10,
   "metadata": {},
   "outputs": [
    {
     "name": "stdout",
     "output_type": "stream",
     "text": [
      "[0, 1, 1, 2, 3, 5, 8, 13, 21, 34, 55, 89, 144, 233, 377, 610, 987]\n"
     ]
    }
   ],
   "source": [
    "#Create a list f_ls that saves the first two initialized values 0 and 1\n",
    "\n",
    "f_ls = [0,1]\n",
    "\n",
    "#Create a count_id that can evaluate the last element of the list f_ls and define the value as 1\n",
    "count_id = 1   #we initialize count_id as 1 here because the last number of the list is at index 1. \n",
    "\n",
    "#While loop\n",
    "while f_ls[count_id] + f_ls[count_id - 1] <= 1000:\n",
    "    f_ls.append(f_ls[count_id] + f_ls[count_id - 1])\n",
    "    count_id = count_id + 1\n",
    "print(f_ls)"
   ]
  },
  {
   "cell_type": "code",
   "execution_count": null,
   "metadata": {},
   "outputs": [],
   "source": []
  }
 ],
 "metadata": {
  "kernelspec": {
   "display_name": "Python 3 (ipykernel)",
   "language": "python",
   "name": "python3"
  },
  "language_info": {
   "codemirror_mode": {
    "name": "ipython",
    "version": 3
   },
   "file_extension": ".py",
   "mimetype": "text/x-python",
   "name": "python",
   "nbconvert_exporter": "python",
   "pygments_lexer": "ipython3",
   "version": "3.13.7"
  }
 },
 "nbformat": 4,
 "nbformat_minor": 4
}
