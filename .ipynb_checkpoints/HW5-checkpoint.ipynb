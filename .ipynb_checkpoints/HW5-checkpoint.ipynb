{
 "cells": [
  {
   "attachments": {},
   "cell_type": "markdown",
   "metadata": {},
   "source": [
    "# HW5 (20')"
   ]
  },
  {
   "attachments": {},
   "cell_type": "markdown",
   "metadata": {},
   "source": [
    "## Submit as an HTML or PDF file\n",
    "\n",
    "<font size='4'>\n",
    "\n",
    "A note for PDF file: <br>\n",
    "It seems that we cannot directly save the Jupyter notebook as a PDF file due to a package loading error. <br>\n",
    "One way to achieve it is to: <br>\n",
    "<span style=\"color:red\">Convert it to an HTML file -> Open the HTML file -> Right Click -> Print -> Save as PDF.</span> <br>\n",
    "At least that is how I print out Quiz 2.\n",
    " \n",
    "Print your name (First Name and Last Name) below."
   ]
  },
  {
   "cell_type": "code",
   "execution_count": 1,
   "metadata": {},
   "outputs": [
    {
     "name": "stdout",
     "output_type": "stream",
     "text": [
      "Joseph Lee\n"
     ]
    }
   ],
   "source": [
    "print(\"Joseph Lee\")"
   ]
  },
  {
   "cell_type": "markdown",
   "metadata": {},
   "source": [
    "## 0. Make sure you sync forks and fetch origin the GitHub repository.\n",
    "\n",
    "- In particular, you should see three folders `data`, `figures`, and `lecture notes` under your `XXX/GitHub/BIOS-584` folder."
   ]
  },
  {
   "cell_type": "markdown",
   "metadata": {},
   "source": [
    "## 1. Play with `os` library and basic commands (13')"
   ]
  },
  {
   "attachments": {},
   "cell_type": "markdown",
   "metadata": {},
   "source": [
    "- Import `numpy` and `pandas` library with proper aliases.\n",
    "- Import a new library named `os` (1')\n",
    "- This is the \"operating system\" library\n",
    "    - Helpful for managing folders and special variables\n",
    "    - No need to install\n",
    "    - No need to rename"
   ]
  },
  {
   "cell_type": "code",
   "execution_count": 23,
   "metadata": {},
   "outputs": [],
   "source": [
    "# Write your own code\n",
    "import numpy as np\n",
    "import pandas as pd\n",
    "\n",
    "import os"
   ]
  },
  {
   "cell_type": "markdown",
   "metadata": {},
   "source": [
    "- Use the new command `os.getcwd()` to show you the current working directory (CWD) in your computer\n",
    "    - Usually refers to the folder where your Jupyter notebook is stored.\n",
    "    - Assign `os.getcwd()` to a variable called `current_dir` and print it out. (1')\n",
    "    - Note that `current_dir` is a string variable. You can use `type(current_dir)` function or `isinstance(current_dir, str)` to verify."
   ]
  },
  {
   "cell_type": "code",
   "execution_count": 31,
   "metadata": {},
   "outputs": [
    {
     "name": "stdout",
     "output_type": "stream",
     "text": [
      "Current working directory: C:\\Users\\josep\\Documents\\GitHub\\BIOS_584\n"
     ]
    },
    {
     "data": {
      "text/plain": [
       "str"
      ]
     },
     "execution_count": 31,
     "metadata": {},
     "output_type": "execute_result"
    }
   ],
   "source": [
    "# Write your own code\n",
    "os.getcwd()\n",
    "\n",
    "current_dir = os.getcwd()\n",
    "\n",
    "print(\"Current working directory:\", current_dir)\n",
    "\n",
    "type(current_dir)"
   ]
  },
  {
   "cell_type": "markdown",
   "metadata": {},
   "source": [
    "- After getting the working directory, check the contents in the cwd.\n",
    "- Use the command `os.listdir()` to show you a list of all relevant files under your CWD.\n",
    "- Assign `os.listdir()` to a variable called `files_ls`. (1')\n",
    "- Use a for loop to iterately show the variable name of the entire list. (1')\n",
    "    - Each row will display one file name.\n",
    "    - Each student will have different results."
   ]
  },
  {
   "cell_type": "code",
   "execution_count": 32,
   "metadata": {},
   "outputs": [
    {
     "name": "stdout",
     "output_type": "stream",
     "text": [
      ".git\n",
      ".idea\n",
      ".ipynb_checkpoints\n",
      ".venv\n",
      "data\n",
      "figures\n",
      "HW1.ipynb\n",
      "HW1.py\n",
      "HW3.ipynb\n",
      "HW4.html\n",
      "HW4.ipynb\n",
      "HW5.ipynb\n",
      "lecture notes\n",
      "quiz1.html\n",
      "quiz1.ipynb\n",
      "quiz1_preparation.html\n",
      "quiz1_preparation.ipynb\n",
      "week-02-jupyter.ipynb\n",
      "week-02-variables-lists.ipynb\n",
      "week-03-boolean-if-else.ipynb\n",
      "week-03-maths-arrays-random.ipynb\n",
      "week-04-additional-list-and-for-loop.ipynb\n",
      "week-05-application-simulation.ipynb\n"
     ]
    }
   ],
   "source": [
    "# Write your own code\n",
    "os.listdir()\n",
    "\n",
    "files_ls = os.listdir()\n",
    "\n",
    "for name in files_ls: #loop goes through files_ls and prints each name on its each own line\n",
    "    print(name)"
   ]
  },
  {
   "cell_type": "markdown",
   "metadata": {},
   "source": [
    "- You should see a folder called `figures`. We will explore what it is.\n",
    "- Change the working directory as the path to folder `figures` using the command `os.chdir()`.\n",
    "    - Recall that the current working directory is stored using `os.getcwd()` and the output is a string.\n",
    "- Use the format `\"{}/figures\".format(current_dir)` to create the new working directory. Assign the new string to `current_dir_2`  (1')\n",
    "- Verify your previous step using `os.getcwd()` and print it out. (1')\n",
    "- Print out all files under the new directory (No need to use the for loop). (1')"
   ]
  },
  {
   "cell_type": "code",
   "execution_count": 33,
   "metadata": {},
   "outputs": [
    {
     "name": "stdout",
     "output_type": "stream",
     "text": [
      "C:\\Users\\josep\\Documents\\GitHub\\BIOS_584\\figures\n",
      "['elif.png', 'forloop.png', 'grading_scale.png', 'if.png', 'ifelse.png', 'project_flow.png', 'pycharm_shortcut_package.png', 'python_kernel.png', 'quiz1_prep_1.png', 'quiz1_prep_2.png', 'quiz1_prep_3.png', 'quiz1_prep_4.png', 'quiz1_prep_5.png', 'quiz1_q1.png', 'quiz1_q2.png', 'quiz1_q3.png', 'quiz1_q4.png', 'quiz1_q5.png', 'quiz1_q6.png', 'quiz1_q7.png', 'quiz1_q8.png', 'quiz1_q9.png']\n"
     ]
    }
   ],
   "source": [
    "# Write your own code\n",
    "\n",
    "current_dir = os.getcwd()\n",
    "\n",
    "current_dir_2 = \"{}/figures\".format(current_dir)\n",
    "\n",
    "os.chdir(current_dir_2)\n",
    "\n",
    "print(os.getcwd())\n",
    "\n",
    "print(os.listdir())\n"
   ]
  },
  {
   "cell_type": "markdown",
   "metadata": {},
   "source": [
    "- Change your working directory back to the original one and verify it (no need to show the files under original directory). (1')\n",
    "    - For Madeline: Since each student has different directories, for this specific problem, check whether this directory is the same as the initial one. If yes, give them the full credit."
   ]
  },
  {
   "cell_type": "code",
   "execution_count": 36,
   "metadata": {},
   "outputs": [
    {
     "name": "stdout",
     "output_type": "stream",
     "text": [
      "C:\\Users\\josep\\Documents\\GitHub\\BIOS_584\n"
     ]
    }
   ],
   "source": [
    "# Write your own code\n",
    "\n",
    "os.chdir(\"C:\\\\Users\\\\josep\\\\Documents\\\\GitHub\\\\BIOS_584\")\n",
    "\n",
    "print(os.getcwd())"
   ]
  },
  {
   "cell_type": "markdown",
   "metadata": {},
   "source": [
    "- After we change the working directory back to the original one, we learn how to create a new directory (or a new folder).\n",
    "    - Create a new folder named `hw5_extension` under the current working directory.\n",
    "    - Create a string following the format `\"{}/hw5_extension\".format(current_dir)` and use the new command `os.mkdir()`. (1')\n",
    "    - Note that we do not need to assign `os.mkdir()` to a variable. `xxx = os.mkdir()` is wrong.\n",
    "    - If this directory is already created, Python will yield an error. Make sure this is a new folder."
   ]
  },
  {
   "cell_type": "code",
   "execution_count": 43,
   "metadata": {},
   "outputs": [
    {
     "name": "stdout",
     "output_type": "stream",
     "text": [
      "C:\\Users\\josep\\Documents\\GitHub\\BIOS_584/hw5_extension\n",
      "['.git', '.idea', '.ipynb_checkpoints', '.venv', 'data', 'figures', 'HW1.ipynb', 'HW1.py', 'HW3.ipynb', 'HW4.html', 'HW4.ipynb', 'HW5.ipynb', 'hw5_extension', 'lecture notes', 'quiz1.html', 'quiz1.ipynb', 'quiz1_preparation.html', 'quiz1_preparation.ipynb', 'week-02-jupyter.ipynb', 'week-02-variables-lists.ipynb', 'week-03-boolean-if-else.ipynb', 'week-03-maths-arrays-random.ipynb', 'week-04-additional-list-and-for-loop.ipynb', 'week-05-application-simulation.ipynb']\n"
     ]
    }
   ],
   "source": [
    "# Write your own code\n",
    "\n",
    "current_dir = os.getcwd()\n",
    "\n",
    "new_folder = \"{}/hw5_extension\".format(current_dir)\n",
    "\n",
    "os.mkdir(new_folder)\n",
    "\n",
    "print(new_folder)\n",
    "print(os.listdir()) #now showing hw5_extension listed in main directory"
   ]
  },
  {
   "cell_type": "markdown",
   "metadata": {},
   "source": [
    "#### Now it should be easier for you to load a dataset from any directory.\n",
    "- Load the excel file `PTSD dataset.xlsx` using `pd.read_excel()` again and name it as `ptsd_df`. (1')\n",
    "    - Note that this file is stored under the `data` folder.\n",
    "    - Choose the sheet named `main_dataset`.\n",
    "    - How should you spell out the directory? Use `'{}/data/PTSD data.xlsx'.format(current_dir)`\n",
    "- Select 1st, 2nd, and 5th column names using `.iloc[:, ids_ls]`, where `ids_ls` is a list of relevant indices. (1')\n",
    "- Rename those three columns as a new dataset named `ptsd_sub_df`, save `ptsd_sub_df` under the previous `hw5_extension` folder using `pd.DataFrame.to_excel()` function with a sheet name `columns_1_2_5`, and give it a name as `PTSD Sub Dataset.xlsx`. (1')\n",
    "    - Details can be found https://pandas.pydata.org/docs/reference/api/pandas.DataFrame.to_excel.html.\n",
    "    - There is a similar function for csv known as `read_csv()` and `to_csv()`.\n",
    "- Provide a snapshot that includes your `hw5_extension` and the excel spreadsheet under it. You can save your snapshot under `hw5_extension` for plotting puroses. (1')"
   ]
  },
  {
   "cell_type": "code",
   "execution_count": 44,
   "metadata": {},
   "outputs": [
    {
     "name": "stdout",
     "output_type": "stream",
     "text": [
      "C:\\Users\\josep\\Documents\\GitHub\\BIOS_584/hw5_extension/PTSD Sub Dataset.xlsx\n",
      "Preview dataset:    record_id  ptsdpresent_caps  caps_intake\n",
      "0        460                 1           15\n",
      "1       5942                 1           23\n",
      "2       5366                 1           31\n",
      "3       3480                 1           31\n",
      "4       1029                 1           28\n"
     ]
    }
   ],
   "source": [
    "# Write your own code\n",
    "current_dir = os.getcwd()\n",
    "\n",
    "dataset_path = '{}/data/PTSD dataset.xlsx'.format(current_dir) \n",
    "\n",
    "ptsd_df = pd.read_excel(dataset_path, sheet_name=\"main_dataset\")\n",
    "\n",
    "ids_ls = [0,1,4] #0-based positions\n",
    "ptsd_sub_df = ptsd_df.iloc[:, ids_ls]\n",
    "\n",
    "save_dataset_path = \"{}/hw5_extension/PTSD Sub Dataset.xlsx\".format(current_dir)\n",
    "ptsd_sub_df.to_excel(save_dataset_path, sheet_name=\"columns_1_2_5\")\n",
    "\n",
    "print(save_dataset_path)\n",
    "print(\"Preview dataset:\", ptsd_sub_df.head())"
   ]
  },
  {
   "cell_type": "markdown",
   "metadata": {},
   "source": [
    "### Place your snapshot below (Make sure it is a Markdown)"
   ]
  },
  {
   "attachments": {
    "1ca3e625-fdb1-4059-b385-cb1d9bbb9739.png": {
     "image/png": "[encoded data removed]"
    }
   },
   "cell_type": "markdown",
   "metadata": {},
   "source": [
    "![image.png](attachment:1ca3e625-fdb1-4059-b385-cb1d9bbb9739.png)"
   ]
  },
  {
   "cell_type": "markdown",
   "metadata": {},
   "source": [
    "## 2. Extension of for loop + if/else statements (7')\n",
    "\n",
    "In the class, we illustrate simulating a $U\\sim Uniform(0,1)$ and set up a cutoff value to generate a binary variable with a certain probability distribution. <br>\n",
    "What if we have three treatment groups with a 2:2:1 ratio?\n",
    "\n",
    "- Suppose we define our `N_total` as 200.\n",
    "- Set a seed value with $100$ (1')\n",
    "- Initialize an empty list (or an array) to save the treatment group id.\n",
    "- To simplify, let's call it $1$, $2$, and $3$, and the proportion of treatment groups 1, 2, and 3 is approximately $2:2:1$.\n",
    "- Write a for loop that iterate `N_total` replications.\n",
    "    - Within each iteration, generate a uniform variable `u_iter`. (1')\n",
    "    - Properly define two cutoff values and apply `if/elif/else` statements to select the corresponding treatment groups (3')\n",
    "- Convert `treatment_ls` to an array and assign it to `treatment_arr`.\n",
    "- Print out the frequency and porportion of three treatment groups. (2')\n",
    "    - The final output should look like\n",
    "    - `Group 1 has X patients (Y%). Group 2 has XX patients (YY%). Group 3 has XXX patients (YYY%)`.\n",
    "    - You can use for loop to simplify, but it is optional."
   ]
  },
  {
   "cell_type": "code",
   "execution_count": 46,
   "metadata": {},
   "outputs": [
    {
     "name": "stdout",
     "output_type": "stream",
     "text": [
      "[2 1 2 3 1 1 2 3 1 2]\n",
      "Group 1 has 87 patients (43.5%). Group 2 has 72 patients (36.0%). Group 3 has 41 patients (20.5%).\n"
     ]
    }
   ],
   "source": [
    "# write you own code\n",
    "N_total = 200\n",
    "\n",
    "np.random.seed(100)\n",
    "\n",
    "treatment_ls = []\n",
    "\n",
    "for n_iter in range(N_total):\n",
    "    u_iter = np.random.uniform(low=0, high=1, size=None)\n",
    "\n",
    "    #cutoff values for 2:2:1 = 0.4, 0.8\n",
    "    if u_iter < 0.4:\n",
    "        treatment_ls.append(1)\n",
    "    elif u_iter < 0.8:\n",
    "        treatment_ls.append(2)\n",
    "    else:\n",
    "        treatment_ls.append(3)\n",
    "\n",
    "treatment_array = np.array(treatment_ls)\n",
    "\n",
    "#Frequency and proportion of 3 treatment grps\n",
    "n1 = np.sum(treatment_array == 1)\n",
    "n2 = np.sum(treatment_array == 2)\n",
    "n3 = np.sum(treatment_array == 3)\n",
    "\n",
    "p1 = n1 / N_total * 100\n",
    "p2 = n2 / N_total * 100\n",
    "p3 = n3 / N_total * 100\n",
    "\n",
    "# print out the first ten samples\n",
    "print(treatment_array[:10])\n",
    "\n",
    "print(\"Group 1 has {} patients ({}%). Group 2 has {} patients ({}%). Group 3 has {} patients ({}%).\"\n",
    "      .format(n1, p1, n2, p2, n3, p3))"
   ]
  },
  {
   "cell_type": "code",
   "execution_count": null,
   "metadata": {},
   "outputs": [],
   "source": []
  }
 ],
 "metadata": {
  "kernelspec": {
   "display_name": "Python 3 (ipykernel)",
   "language": "python",
   "name": "python3"
  },
  "language_info": {
   "codemirror_mode": {
    "name": "ipython",
    "version": 3
   },
   "file_extension": ".py",
   "mimetype": "text/x-python",
   "name": "python",
   "nbconvert_exporter": "python",
   "pygments_lexer": "ipython3",
   "version": "3.13.7"
  },
  "vscode": {
   "interpreter": {
    "hash": "45fc1f684f6f416f40889115beff3ddf69879b64cf4bfee48cb72a61e9d15d1a"
   }
  }
 },
 "nbformat": 4,
 "nbformat_minor": 4
}
