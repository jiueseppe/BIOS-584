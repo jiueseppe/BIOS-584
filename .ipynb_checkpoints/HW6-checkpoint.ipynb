{
 "cells": [
  {
   "attachments": {},
   "cell_type": "markdown",
   "metadata": {},
   "source": [
    "# HW6 (20')"
   ]
  },
  {
   "attachments": {},
   "cell_type": "markdown",
   "metadata": {},
   "source": [
    "<font size='4'>\n",
    "    \n",
    "Please submit your assignment as an HTML or PDF file.\n",
    "\n",
    "Print your name (First and Last) below."
   ]
  },
  {
   "cell_type": "code",
   "execution_count": 1,
   "metadata": {},
   "outputs": [
    {
     "name": "stdout",
     "output_type": "stream",
     "text": [
      "Joseph Lee\n"
     ]
    }
   ],
   "source": [
    "# Write your answer here:\n",
    "print('Joseph Lee')"
   ]
  },
  {
   "attachments": {},
   "cell_type": "markdown",
   "metadata": {},
   "source": [
    "<font size='4'>\n",
    "    \n",
    "Import the `pandas`, `matplotlib.pyplot`, `numpy`, `scipy` libraries and assign them with proper nicknames."
   ]
  },
  {
   "cell_type": "code",
   "execution_count": 6,
   "metadata": {},
   "outputs": [],
   "source": [
    "# Write your answer here:\n",
    "import numpy as np\n",
    "import pandas as pd\n",
    "import scipy as sp\n",
    "from scipy import stats\n",
    "import matplotlib.pyplot as plt"
   ]
  },
  {
   "cell_type": "code",
   "execution_count": 7,
   "metadata": {},
   "outputs": [],
   "source": [
    "# Do not delete this code section.\n",
    "np.random.seed(100)"
   ]
  },
  {
   "cell_type": "markdown",
   "metadata": {},
   "source": [
    "## 1. Write a function that output marginal summary statistics and missing values for continuous variable (10')"
   ]
  },
  {
   "cell_type": "markdown",
   "metadata": {},
   "source": [
    "<font size='4'>\n",
    "\n",
    "**Write the function with `def`** (6')\n",
    "- Given a vector of continuous measure, you are asked to write a function named `fn_marginal_continuous`.\n",
    "- The function has one parameter `input_vec` and outputs a list of summary measure and the number of missing values.\n",
    "- Check the missingness of the `input_vec` using `np.isnan()` or `pd.isna()` functions.\n",
    "    - In our first case, we will assume the `input_vec` is an numpy array with missing values marked with `np.nan`.\n",
    "- The list of summary measure can be either **(mean, std)** or **(median, q1, q3)** depending on the normality assumption.\n",
    "    - To determine the normality assumption, you can rely on the p-value of the Shapiro-Wilk test.\n",
    "    - Relevant functions can be found here: https://docs.scipy.org/doc/scipy/reference/generated/scipy.stats.shapiro.html \n",
    "    - If the p-value < 0.05, it is not normally distributed, otherwise, you can treat it as normally distributed.\n",
    "    - Think about what measure to report based on the normality assumption.\n",
    "    - Part of relevant functions can be found here: https://numpy.org/doc/2.0/reference/generated/numpy.nanmean.html\n",
    "- The return statement should include two components: `missing_num` and `output_ls` (your summmary measure).\n",
    "    - The missing numbers should be of type `int` instead of `np.int64`, and summary values should be of type `float` instead of `np.float64`.\n",
    "    - Round all your summary values such that they have no more than **3** digits after the decimals. "
   ]
  },
  {
   "cell_type": "code",
   "execution_count": 8,
   "metadata": {},
   "outputs": [],
   "source": [
    "# Write your defined function in this code chunk only.\n",
    "def fn_marginal_continuous(input_vec):\n",
    "    missing_num = int(np.isnan(input_vec).sum())\n",
    "    valid = input_vec[~np.isnan(input_vec)]\n",
    "\n",
    "    if valid.size >= 3:\n",
    "        pval = stats.shapiro(valid).pvalue\n",
    "    else:\n",
    "        pval = 1.0\n",
    "\n",
    "    if pval < 0.05:\n",
    "        med = np.median(valid)\n",
    "        q1 = np.percentile(valid, 25)\n",
    "        q3 = np.percentile(valid, 75)\n",
    "        output_ls = [float(round(med, 3)),\n",
    "                     float(round(q1, 3)),\n",
    "                     float(round(q3, 3))]\n",
    "    else:\n",
    "        mean = np.mean(valid)\n",
    "        sd = np.std(valid)\n",
    "        output_ls = [float(round(mean, 3)),\n",
    "                     float(round(sd, 3))]\n",
    "\n",
    "    return missing_num, output_ls"
   ]
  },
  {
   "cell_type": "markdown",
   "metadata": {},
   "source": [
    "<font size='4'>\n",
    "\n",
    "**Test your function with the following different arguments:** (4') <br>\n",
    "For each scenario, please export the results as `missing_num_x`, `output_ls_x` and print them out separately.\n",
    "1. A standard normal random vector with a sample size of 100, named `input_vec_1`.\n",
    "2. A Chi-squared random vector with a degree of freedom 1 and a sample size of 100, named `input_vec_2`.\n",
    "3. Change the first element of `input_vec_1` as `np.nan` and create a new array named `input_vec_3`.\n",
    "    - Note that to create a copy of an numpy array, use `np.copy()` first.\n",
    "4. Change the last element of `input_vec_2` as `np.nan` and create a new array named `input_vec_4`."
   ]
  },
  {
   "cell_type": "code",
   "execution_count": 13,
   "metadata": {},
   "outputs": [
    {
     "name": "stdout",
     "output_type": "stream",
     "text": [
      "Scenario 1-missing: 0 Ouput: [-0.104, 0.97]\n"
     ]
    }
   ],
   "source": [
    "# Write your own code for scenario 1:\n",
    "np.random.seed(100)\n",
    "input_vec_1 = np.random.normal(0, 1, 100)\n",
    "\n",
    "missing_num_1, output_ls_1 = fn_marginal_continuous(input_vec_1)\n",
    "print(\"Scenario 1-missing:\", missing_num_1, \"Ouput:\", output_ls_1)"
   ]
  },
  {
   "cell_type": "code",
   "execution_count": 30,
   "metadata": {},
   "outputs": [
    {
     "name": "stdout",
     "output_type": "stream",
     "text": [
      "Scenario 2-missing: 0\n",
      "Output: [0.395, 0.088, 1.142]\n"
     ]
    }
   ],
   "source": [
    "# Write your own code for scenario 2:\n",
    "np.random.seed(100)\n",
    "input_vec_2 = np.random.chisquare(df=1, size=100)\n",
    "\n",
    "missing_num_2, output_ls_2 = fn_marginal_continuous(input_vec_2)\n",
    "print(\"Scenario 2-missing:\", missing_num_2) \n",
    "print(\"Output:\", output_ls_2)"
   ]
  },
  {
   "cell_type": "code",
   "execution_count": 31,
   "metadata": {},
   "outputs": [
    {
     "name": "stdout",
     "output_type": "stream",
     "text": [
      "Scenario 3-missing: 1\n",
      "Output: [-0.088, 0.96]\n"
     ]
    }
   ],
   "source": [
    "# Write your own code for scenario 3:\n",
    "input_vec_3 = np.copy(input_vec_1)\n",
    "input_vec_3[0] = np.nan\n",
    "\n",
    "missing_num_3, output_ls_3 = fn_marginal_continuous(input_vec_3)\n",
    "print(\"Scenario 3-missing:\", missing_num_3) \n",
    "print(\"Output:\", output_ls_3)"
   ]
  },
  {
   "cell_type": "code",
   "execution_count": 32,
   "metadata": {},
   "outputs": [
    {
     "name": "stdout",
     "output_type": "stream",
     "text": [
      "Scenario 4-missing: 1\n",
      "Output: [0.373, 0.087, 1.154]\n"
     ]
    }
   ],
   "source": [
    "# Write your own code for scenario 4:\n",
    "input_vec_4 = np.copy(input_vec_2)\n",
    "input_vec_4[-1] = np.nan\n",
    "\n",
    "missing_num_4, output_ls_4 = fn_marginal_continuous(input_vec_4)\n",
    "print(\"Scenario 4-missing:\", missing_num_4) \n",
    "print(\"Output:\", output_ls_4)"
   ]
  },
  {
   "cell_type": "markdown",
   "metadata": {},
   "source": [
    "## 2. Write a function that output marginal summary statistics and missing values for categorical variable (5')\n",
    "\n",
    "<font size='4'>\n",
    "\n",
    "**Write the function with `def`**\n",
    "- Given a column vector, you are asked to write a function named `fn_marginal_categorical`.\n",
    "- The function has one parameter named `input_vec` and outputs a list of summary measure and the number of missing values.\n",
    "- Check the missingness of the `input_vec` using `np.isnan()` or `pd.isna()` functions.\n",
    "    - In our second case, we will assume the `input_vec` is a column from a pandas DataFrame with missing values marked with `np.nan`.\n",
    "    - You can use both functions to identify missing values and yield the number of missingness.\n",
    "    - Use `pd.Series.value_counts()` function to obtain the frequency and proportion of `input_vec`, denoted as `tab_count` and `tab_percent`, respectively.\n",
    "    - Details can be found here: https://pandas.pydata.org/docs/reference/api/pandas.Series.value_counts.html\n",
    "    - For proportion, please use percentage (0-100%). You can ignore % when reporting.\n",
    "- The return statement should include two components: `missing_num` and `output_tab` (your summmary measure).\n",
    "    - For your `output_tab`, combine the count and proportion together using `pd.concat()`. Your `output_tab` should have three columns: variable name, count, and proportion.\n",
    "    - Details can be found here: https://pandas.pydata.org/docs/reference/api/pandas.concat.html\n",
    "    - The missing numbers should be of type `int` instead of `np.int64`, and percentgae values should be of type `float` instead of `np.float64`.\n",
    "    - Round all your relevant summary values such that they have no more than **2** digits after the decimals."
   ]
  },
  {
   "cell_type": "code",
   "execution_count": 20,
   "metadata": {},
   "outputs": [],
   "source": [
    "# Write your defined function in this code chunk only.\n",
    "def fn_marginal_categorical(input_vec):\n",
    "\n",
    "    missing_num = int(pd.isna(input_vec).sum()) #count missing vals\n",
    "\n",
    "    #counts and proprotions\n",
    "    tab_count = input_vec.value_counts(dropna=True)\n",
    "    tab_percent = (tab_count / tab_count.sum() * 100).round(2)\n",
    "\n",
    "    #combines counts and percents\n",
    "    output_tab = pd.concat([tab_count, tab_percent], axis=1)\n",
    "    output_tab.columns = ['count', 'proportion']\n",
    "    output_tab = output_tab.reset_index() #reset index (make first col the category label)\n",
    "    output_tab.columns = [input_vec.name, 'count', 'proportion']\n",
    "\n",
    "    return missing_num, output_tab"
   ]
  },
  {
   "cell_type": "markdown",
   "metadata": {},
   "source": [
    "## 3. Test your written functions with a real dataset. (3')\n",
    "\n",
    "<font size='4'>\n",
    "    \n",
    "**Test the summary function for the continuous measure** (1')\n",
    "- Load the `PTSD dataset.xlsx` and name it as `ptsd_df`.\n",
    "    - The dataset should be stored under `data` folder when you sync changes and fetch origins the GitHub repository.\n",
    "- Use the column `pcl5month_score.baseline` as the input vector. This is a continuous measure.\n",
    "- Extract the corresponding column and give it a name `pcl5month_base`.\n",
    "- (*Optional*) You convert from a pandas.dataframe to an numpy array."
   ]
  },
  {
   "cell_type": "code",
   "execution_count": 22,
   "metadata": {},
   "outputs": [
    {
     "data": {
      "text/html": [
       "<div>\n",
       "<style scoped>\n",
       "    .dataframe tbody tr th:only-of-type {\n",
       "        vertical-align: middle;\n",
       "    }\n",
       "\n",
       "    .dataframe tbody tr th {\n",
       "        vertical-align: top;\n",
       "    }\n",
       "\n",
       "    .dataframe thead th {\n",
       "        text-align: right;\n",
       "    }\n",
       "</style>\n",
       "<table border=\"1\" class=\"dataframe\">\n",
       "  <thead>\n",
       "    <tr style=\"text-align: right;\">\n",
       "      <th></th>\n",
       "      <th>record_id</th>\n",
       "      <th>ptsdpresent_caps</th>\n",
       "      <th>caps_minuspcl</th>\n",
       "      <th>caps_minuspcl_code</th>\n",
       "      <th>caps_intake</th>\n",
       "      <th>pcl5_score_intake</th>\n",
       "      <th>pcl5month_score.baseline</th>\n",
       "      <th>pcl5week_score.completion</th>\n",
       "      <th>pcl5month_score.3_month_follow_up</th>\n",
       "      <th>mdd_code</th>\n",
       "      <th>...</th>\n",
       "      <th>state_code</th>\n",
       "      <th>va_benefits_indicator</th>\n",
       "      <th>wwp_alumni_indicator</th>\n",
       "      <th>army</th>\n",
       "      <th>airforce</th>\n",
       "      <th>marines</th>\n",
       "      <th>navy</th>\n",
       "      <th>coastguard</th>\n",
       "      <th>nationalguard</th>\n",
       "      <th>reserve</th>\n",
       "    </tr>\n",
       "  </thead>\n",
       "  <tbody>\n",
       "    <tr>\n",
       "      <th>0</th>\n",
       "      <td>460</td>\n",
       "      <td>1</td>\n",
       "      <td>-56</td>\n",
       "      <td>1</td>\n",
       "      <td>15</td>\n",
       "      <td>71</td>\n",
       "      <td>75.0</td>\n",
       "      <td>40.0</td>\n",
       "      <td>NaN</td>\n",
       "      <td>0</td>\n",
       "      <td>...</td>\n",
       "      <td>TX</td>\n",
       "      <td>Yes</td>\n",
       "      <td>No</td>\n",
       "      <td>1.0</td>\n",
       "      <td>0.0</td>\n",
       "      <td>0.0</td>\n",
       "      <td>0.0</td>\n",
       "      <td>0.0</td>\n",
       "      <td>0.0</td>\n",
       "      <td>0.0</td>\n",
       "    </tr>\n",
       "    <tr>\n",
       "      <th>1</th>\n",
       "      <td>5942</td>\n",
       "      <td>1</td>\n",
       "      <td>-49</td>\n",
       "      <td>1</td>\n",
       "      <td>23</td>\n",
       "      <td>72</td>\n",
       "      <td>NaN</td>\n",
       "      <td>52.0</td>\n",
       "      <td>29.0</td>\n",
       "      <td>0</td>\n",
       "      <td>...</td>\n",
       "      <td>GA</td>\n",
       "      <td>Yes</td>\n",
       "      <td>No</td>\n",
       "      <td>0.0</td>\n",
       "      <td>1.0</td>\n",
       "      <td>0.0</td>\n",
       "      <td>0.0</td>\n",
       "      <td>0.0</td>\n",
       "      <td>0.0</td>\n",
       "      <td>0.0</td>\n",
       "    </tr>\n",
       "    <tr>\n",
       "      <th>2</th>\n",
       "      <td>5366</td>\n",
       "      <td>1</td>\n",
       "      <td>-48</td>\n",
       "      <td>1</td>\n",
       "      <td>31</td>\n",
       "      <td>79</td>\n",
       "      <td>62.0</td>\n",
       "      <td>23.0</td>\n",
       "      <td>NaN</td>\n",
       "      <td>1</td>\n",
       "      <td>...</td>\n",
       "      <td>GA</td>\n",
       "      <td>N</td>\n",
       "      <td>N</td>\n",
       "      <td>1.0</td>\n",
       "      <td>0.0</td>\n",
       "      <td>0.0</td>\n",
       "      <td>0.0</td>\n",
       "      <td>0.0</td>\n",
       "      <td>0.0</td>\n",
       "      <td>0.0</td>\n",
       "    </tr>\n",
       "    <tr>\n",
       "      <th>3</th>\n",
       "      <td>3480</td>\n",
       "      <td>1</td>\n",
       "      <td>-47</td>\n",
       "      <td>1</td>\n",
       "      <td>31</td>\n",
       "      <td>78</td>\n",
       "      <td>76.0</td>\n",
       "      <td>72.0</td>\n",
       "      <td>NaN</td>\n",
       "      <td>0</td>\n",
       "      <td>...</td>\n",
       "      <td>GA</td>\n",
       "      <td>Yes</td>\n",
       "      <td>Yes</td>\n",
       "      <td>1.0</td>\n",
       "      <td>0.0</td>\n",
       "      <td>0.0</td>\n",
       "      <td>0.0</td>\n",
       "      <td>0.0</td>\n",
       "      <td>0.0</td>\n",
       "      <td>0.0</td>\n",
       "    </tr>\n",
       "    <tr>\n",
       "      <th>4</th>\n",
       "      <td>1029</td>\n",
       "      <td>1</td>\n",
       "      <td>-46</td>\n",
       "      <td>1</td>\n",
       "      <td>28</td>\n",
       "      <td>74</td>\n",
       "      <td>52.0</td>\n",
       "      <td>29.0</td>\n",
       "      <td>36.0</td>\n",
       "      <td>0</td>\n",
       "      <td>...</td>\n",
       "      <td>GA</td>\n",
       "      <td>Yes</td>\n",
       "      <td>No</td>\n",
       "      <td>0.0</td>\n",
       "      <td>0.0</td>\n",
       "      <td>1.0</td>\n",
       "      <td>0.0</td>\n",
       "      <td>0.0</td>\n",
       "      <td>0.0</td>\n",
       "      <td>0.0</td>\n",
       "    </tr>\n",
       "  </tbody>\n",
       "</table>\n",
       "<p>5 rows × 439 columns</p>\n",
       "</div>"
      ],
      "text/plain": [
       "   record_id  ptsdpresent_caps  caps_minuspcl  caps_minuspcl_code  \\\n",
       "0        460                 1            -56                   1   \n",
       "1       5942                 1            -49                   1   \n",
       "2       5366                 1            -48                   1   \n",
       "3       3480                 1            -47                   1   \n",
       "4       1029                 1            -46                   1   \n",
       "\n",
       "   caps_intake  pcl5_score_intake  pcl5month_score.baseline  \\\n",
       "0           15                 71                      75.0   \n",
       "1           23                 72                       NaN   \n",
       "2           31                 79                      62.0   \n",
       "3           31                 78                      76.0   \n",
       "4           28                 74                      52.0   \n",
       "\n",
       "   pcl5week_score.completion  pcl5month_score.3_month_follow_up  mdd_code  \\\n",
       "0                       40.0                                NaN         0   \n",
       "1                       52.0                               29.0         0   \n",
       "2                       23.0                                NaN         1   \n",
       "3                       72.0                                NaN         0   \n",
       "4                       29.0                               36.0         0   \n",
       "\n",
       "   ...  state_code  va_benefits_indicator  wwp_alumni_indicator  army  \\\n",
       "0  ...          TX                    Yes                    No   1.0   \n",
       "1  ...          GA                    Yes                    No   0.0   \n",
       "2  ...          GA                      N                     N   1.0   \n",
       "3  ...          GA                    Yes                   Yes   1.0   \n",
       "4  ...          GA                    Yes                    No   0.0   \n",
       "\n",
       "   airforce  marines  navy  coastguard  nationalguard  reserve  \n",
       "0       0.0      0.0   0.0         0.0            0.0      0.0  \n",
       "1       1.0      0.0   0.0         0.0            0.0      0.0  \n",
       "2       0.0      0.0   0.0         0.0            0.0      0.0  \n",
       "3       0.0      0.0   0.0         0.0            0.0      0.0  \n",
       "4       0.0      1.0   0.0         0.0            0.0      0.0  \n",
       "\n",
       "[5 rows x 439 columns]"
      ]
     },
     "execution_count": 22,
     "metadata": {},
     "output_type": "execute_result"
    }
   ],
   "source": [
    "# import ptsd dataset in this code section only (no point for this part as you have done it a few times)\n",
    "import pandas as pd\n",
    "ptsd_df = pd.read_excel(\"data/PTSD dataset.xlsx\", sheet_name=\"main_dataset\")\n",
    "\n",
    "ptsd_df.head() #check"
   ]
  },
  {
   "cell_type": "code",
   "execution_count": 25,
   "metadata": {},
   "outputs": [
    {
     "name": "stdout",
     "output_type": "stream",
     "text": [
      "Missing: 9\n",
      "Summary: [51.0, 42.0, 62.0]\n"
     ]
    }
   ],
   "source": [
    "# test continuous measure\n",
    "\n",
    "pcl5month_base = ptsd_df[\"pcl5month_score.baseline\"].to_numpy()\n",
    "\n",
    "missing_num_cont, output_ls_cont = fn_marginal_continuous(pcl5month_base)\n",
    "print(\"Missing:\", missing_num_cont)\n",
    "print(\"Summary:\", output_ls_cont)"
   ]
  },
  {
   "cell_type": "markdown",
   "metadata": {},
   "source": [
    "<font size='4'>\n",
    "\n",
    "**Test the summary function for the categorical measure** (2')\n",
    "\n",
    "- Use the column `mdd_code` as the input vector. This is a binary vector.\n",
    "1. Extract the corresponding column and give it a name `mdd_code_vec`. Output your results as `missing_num_1` and `tab_1`. Print each element out (You will write `print()` twice).\n",
    "2. Create a copy of `mdd_code_vec` and name it as `mdd_code_vec_2`. Change its first element to `NaN`.\n",
    "    - Rerun the `fn_marginal_categorical()` with the new vector. Output your results as `missing_num_2` and `tab_2`. Print each element out (You will write `print()` twice)."
   ]
  },
  {
   "cell_type": "code",
   "execution_count": 26,
   "metadata": {},
   "outputs": [
    {
     "name": "stdout",
     "output_type": "stream",
     "text": [
      "Scenario 1 -missing: 0\n",
      "   mdd_code  count  proportion\n",
      "0         0    340       70.39\n",
      "1         1    143       29.61\n"
     ]
    }
   ],
   "source": [
    "# Write your own code for scenario 1 only:\n",
    "mdd_code_vec = ptsd_df[\"mdd_code\"]\n",
    "\n",
    "missing_num_1, tab_1 = fn_marginal_categorical(mdd_code_vec)\n",
    "\n",
    "print(\"Scenario 1 -missing:\", missing_num_1)\n",
    "print(tab_1)"
   ]
  },
  {
   "cell_type": "code",
   "execution_count": 27,
   "metadata": {},
   "outputs": [
    {
     "name": "stdout",
     "output_type": "stream",
     "text": [
      "Scenario 2 - Missing: 1\n",
      "   mdd_code  count  proportion\n",
      "0       0.0    339       70.33\n",
      "1       1.0    143       29.67\n"
     ]
    }
   ],
   "source": [
    "# Write your own code for scenario 2 only:\n",
    "\n",
    "mdd_code_vec_2 = mdd_code_vec.copy()\n",
    "mdd_code_vec_2.iloc[0] = np.nan\n",
    "\n",
    "missing_num_2, tab_2 = fn_marginal_categorical(mdd_code_vec_2)\n",
    "\n",
    "print(\"Scenario 2 - Missing:\", missing_num_2)\n",
    "print(tab_2)"
   ]
  },
  {
   "attachments": {},
   "cell_type": "markdown",
   "metadata": {},
   "source": [
    "## 4. Lambda functions and for loop (2')\n",
    "\n",
    "<font size='4'>\n",
    "\n",
    "- Create a ``` lambda ``` function that checks if column `pcl5_score_intake` is greater than 30, denoted as `fn_pcl5_ptsd_check`.\n",
    "- Create a new list `pcl5_score_intake_ls` that shows `True` if `pcl5_score_intake`>30 and `False` otherwise using a for loop.\n",
    "    - You can also try `map()` function to iterate the function over `pcl5_score_intake`.\n",
    "    - Syntax is simple: `map(function_name, iterable, ...)`. \n",
    "- Print out the number of patients with `pcl5_score_intake` over 30 and mark them as **Clinically Significant for PTSD**.\n",
    "    - Your output can be something like `XXX out of YYY patients (ZZZ%) were marked as clinically significant for PTSD.`\n",
    "    - Round your percentage with no more than **2** decimals."
   ]
  },
  {
   "cell_type": "code",
   "execution_count": 29,
   "metadata": {},
   "outputs": [
    {
     "name": "stdout",
     "output_type": "stream",
     "text": [
      "451 outof 483 patients (93.37%) were marked as clinically significant for PTSD.\n"
     ]
    }
   ],
   "source": [
    "# Write your own code\n",
    "\n",
    "fn_pcl5_ptsd_check = lambda x: x > 30\n",
    "\n",
    "pcl5_score_intake_ls = list(map(fn_pcl5_ptsd_check, ptsd_df[\"pcl5_score_intake\"]))\n",
    "\n",
    "total_patients = len(pcl5_score_intake_ls)\n",
    "significant_patients = sum(pcl5_score_intake_ls)\n",
    "percent_significant = round((significant_patients / total_patients) * 100, 2)\n",
    "\n",
    "print(f\"{significant_patients} outof {total_patients} patients ({percent_significant}%) were marked as clinically significant for PTSD.\")"
   ]
  },
  {
   "attachments": {},
   "cell_type": "markdown",
   "metadata": {},
   "source": [
    "<font size = \"5\">"
   ]
  }
 ],
 "metadata": {
  "kernelspec": {
   "display_name": "Python 3 (ipykernel)",
   "language": "python",
   "name": "python3"
  },
  "language_info": {
   "codemirror_mode": {
    "name": "ipython",
    "version": 3
   },
   "file_extension": ".py",
   "mimetype": "text/x-python",
   "name": "python",
   "nbconvert_exporter": "python",
   "pygments_lexer": "ipython3",
   "version": "3.13.7"
  },
  "vscode": {
   "interpreter": {
    "hash": "45fc1f684f6f416f40889115beff3ddf69879b64cf4bfee48cb72a61e9d15d1a"
   }
  }
 },
 "nbformat": 4,
 "nbformat_minor": 4
}
