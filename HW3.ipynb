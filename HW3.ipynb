{
 "cells": [
  {
   "attachments": {},
   "cell_type": "markdown",
   "metadata": {},
   "source": [
    "# HW3 (20')"
   ]
  },
  {
   "attachments": {},
   "cell_type": "markdown",
   "metadata": {},
   "source": [
    "## Submit as an HTML or PDF file"
   ]
  },
  {
   "attachments": {},
   "cell_type": "markdown",
   "metadata": {},
   "source": [
    "Print your name (First Name and Last Name) below"
   ]
  },
  {
   "cell_type": "code",
   "execution_count": 2,
   "metadata": {},
   "outputs": [
    {
     "name": "stdout",
     "output_type": "stream",
     "text": [
      "Joseph Lee\n"
     ]
    }
   ],
   "source": [
    "print(\"Joseph Lee\")"
   ]
  },
  {
   "attachments": {},
   "cell_type": "markdown",
   "metadata": {},
   "source": [
    "- Import the `numpy` and `matplotlib` packages and rename them to their alias.\n",
    "- Import `scipy` (no renaming)."
   ]
  },
  {
   "cell_type": "code",
   "execution_count": 6,
   "metadata": {},
   "outputs": [],
   "source": [
    "import numpy as np\n",
    "import matplotlib.pyplot as plt\n",
    "import scipy"
   ]
  },
  {
   "attachments": {},
   "cell_type": "markdown",
   "metadata": {},
   "source": [
    "## (a) Compute a probability mass function for Poisson distribution with a parameter $\\lambda$. \n",
    "\n",
    "$P(X=k) = \\lambda^k \\exp(-\\lambda)/k!$, where $k\\in\\mathbb{N}_0$\n",
    "\n",
    "Calculate $P(X=k)$ when\n",
    "- $\\lambda=1.5$\n",
    "- $k=5$\n",
    "\n",
    "To get full points:\n",
    "- First define each of these input variables and assign them with pre-specified values **(1')**\n",
    "- For the factorial, you can use `np.arange()` and `np.prod()` **(1')**\n",
    "- Define `P_val` and write the formula above **(1')**\n",
    "- Use the built-in function `scipy.stats.poisson.pmf()` to compute the pmf, denoted as `P_scipy_val` **(1')**\n",
    "    - https://docs.scipy.org/doc/scipy/reference/generated/scipy.stats.poisson.html \n",
    "- Print two results together **(1')**"
   ]
  },
  {
   "cell_type": "code",
   "execution_count": 33,
   "metadata": {},
   "outputs": [
    {
     "name": "stdout",
     "output_type": "stream",
     "text": [
      "120\n",
      "P_val= 0.014119955446892825\n",
      "P_scipy_val= 0.014119955446892832\n"
     ]
    }
   ],
   "source": [
    "# lambda_val = rate parameter of the Poisson distribution\n",
    "# Notice that lambda itself is a reserved keyword in Python, so we need to come up with a different name.\n",
    "# k_val is the input, which takes values from the entire natural number set. \n",
    "# here we calculate a particular option when k_val=5.\n",
    "# P_val = ...\n",
    "# Use built-in function to compute the PMF, denoted as P_scipy\n",
    "# P_scipy_val = ...\n",
    "# Write your own code\n",
    "\n",
    "lamda_val = 1.5\n",
    "k_val = 5\n",
    "\n",
    "#5! = 1*2*3*4*5 = 120\n",
    "k_factorial = np.prod(np.arange(1,k_val+1)) # np.arange goes up to but not including stop number (need to add +1)\n",
    "print(k_factorial)\n",
    "\n",
    "P_val = (lamda_val**k_val)*np.exp(-lamda_val)/k_factorial\n",
    "print(\"P_val=\", P_val)\n",
    "\n",
    "#pmf(k, mu, loc=0) --- from scipy.org link above\n",
    "P_scipy_val = scipy.stats.poisson.pmf(k_val, lamda_val, loc=0)\n",
    "print(\"P_scipy_val=\", P_scipy_val)\n"
   ]
  },
  {
   "attachments": {},
   "cell_type": "markdown",
   "metadata": {},
   "source": [
    "## (b) Composite operations on arrays\n",
    "\n",
    "<font color='red'> **To develop a good naming habit, I recommend you add the type information to the name of the variable. For example, if it is a scalar, you can add `_val`; if it is a vec, you can add `_vec`; if it is a matrix, you can add `_mat`, if it is a boolean, you can add `_bool`, etc.** </font>\n",
    "\n",
    "- Define `r_val` as 0.06\n",
    "- Define two arrays $a$ and $t$ using `np.array()`, renaming them as `a_vec` and `t_vec`, assigning the following values: **(1')**\n",
    "\n",
    "$ a = \\begin{pmatrix} a_0 \\\\ a_1 \\\\ a_2 \\end{pmatrix} = \\begin{pmatrix} 20 \\\\ 30 \\\\ 15 \\end{pmatrix}, \\qquad t = \\begin{pmatrix} t_0 \\\\ t_1 \\\\ t_2 \\end{pmatrix} = \\begin{pmatrix} 0 \\\\ 1 \\\\ 2 \\end{pmatrix} $\n",
    "\n",
    "- Use element-by-element vector operations to compute a new array `m_vec` of length 3 as follows: **(1')** <br>\n",
    "\n",
    "$ m = \\begin{pmatrix} a_0 / (1+r)^{t_0} \\\\ a_1 / (1+r)^{t_1} \\\\ a_2 / (1+r)^{t_2} \\end{pmatrix} $\n",
    "\n",
    "- Compute the sum of the values of $m$ **(1')**\n",
    "    - You can either use `np.sum()` or `m_vec.sum()`.\n",
    "    - I am using subscripts to denote the individual elements of $a$ and $t$. In the code just enter the values of $a$ and $t$.\n",
    "\n",
    "- Compute the inner product (or Euclidean distance) of `m_vec` manually.\n",
    "- $||m||_2 = \\sqrt{m^\\top * m}$, where $^\\top$ is the transpose operator, and $*$ is the matrix operator (not element-wise multiplication).\n",
    "  - You can use `^T` to compute transpose or use `np.transpose()`. **(1')**\n",
    "  - You can use `@` to perform matrix multiplication or use `np.matmul()`. Make sure the dimension is correct. **(1')**\n",
    "  - Use `np.sqrt()` to compute the square root.\n",
    "  - Print out your final result and compare it to the built-in function `np.linalg.norm(m_vec, ord=2)`.\n"
   ]
  },
  {
   "cell_type": "code",
   "execution_count": 70,
   "metadata": {},
   "outputs": [
    {
     "name": "stdout",
     "output_type": "stream",
     "text": [
      "a_vec= [20 30 15]\n",
      "t_vec= [0 1 2]\n",
      "m_vec= [20.         28.30188679 13.3499466 ]\n",
      "sum of m = 61.65183339266643\n",
      "Inner product of m_vec = 1379.2178702413707\n",
      "manual= 37.13782263732448\n",
      "built_in 37.13782263732448\n"
     ]
    }
   ],
   "source": [
    "# Define r_val as 0.06\n",
    "r_val = 0.06\n",
    "\n",
    "#Define two arrays and using np.array(), renaming them as a_vec and t_vec, assigning the following values:\n",
    "a_vec = np.array([20,30,15])\n",
    "t_vec = np.array([0,1,2])\n",
    "print(\"a_vec=\", a_vec)\n",
    "print(\"t_vec=\", t_vec)\n",
    "\n",
    "#Use element-by-element vector operations to compute a new array m_vec of length 3 as follows:\n",
    "m_vec = np.array([a_vec[0]/(1+r_val)**t_vec[0], a_vec[1]/(1+r_val)**t_vec[1], a_vec[2]/(1+r_val)**t_vec[2]])\n",
    "print(\"m_vec=\", m_vec)\n",
    "\n",
    "#Compute the sum of the values of m\n",
    "sum_m = m_vec.sum()\n",
    "print(\"sum of m =\", sum_m)\n",
    "\n",
    "#inner product (or Euclidean distance) of m_vec manually.\n",
    "inner_product = m_vec.T @ m_vec      # same as np.dot(m_vec, m_vec)\n",
    "print(\"Inner product of m_vec =\", inner_product)\n",
    "\n",
    "manual = np.sqrt(inner_product)\n",
    "print(\"manual=\", manual)\n",
    "\n",
    "built_in = np.linalg.norm(m_vec, ord=2)\n",
    "print(\"built_in\", built_in)"
   ]
  },
  {
   "attachments": {},
   "cell_type": "markdown",
   "metadata": {},
   "source": [
    "## (c) Plot a standard student-t random vector\n",
    "\n",
    "To get full points:\n",
    "\n",
    "- Observe the naming tradition mentioned above.\n",
    "- Set a seed with a number `612`. **(1')**\n",
    "- Define parameters and sample size and assign them to pre-specified values ahead of time.\n",
    "    - `df=1` and `size = 1000`.\n",
    "    - When degree of freedom (`df`) is 1, the student-t distribution is also known as a Cauchy distribution.\n",
    "        - It does not have a valid mean nor variance. (You will have a clearer idea when you see the histogram!)\n",
    "    - Use `ny.random.standard_t()` to generate random samples from standard student-t distributions. **(1')**\n",
    "- Create a histogram plot **(1')**\n",
    "    - Change the default color to `skyblue`. **(1')**\n",
    "    - Label the x, y axes and title properly. **(1')**\n",
    "    - **Optional**: You can change the number of `bins` in the `plt.hist()` function to obtain a granular view of the histogram. "
   ]
  },
  {
   "cell_type": "code",
   "execution_count": 75,
   "metadata": {},
   "outputs": [
    {
     "name": "stdout",
     "output_type": "stream",
     "text": [
      "student_t_samples= [-8.46485659e-03 -2.22425199e+00  1.76265412e-01 -3.83817908e+00\n",
      " -1.20234169e+00  1.52888925e+00 -1.24136506e+00 -1.04387134e-01\n",
      "  3.57566644e-01  5.95515352e-01 -1.26968047e+00 -1.62853236e+00\n",
      " -4.64690973e-01  2.31373214e-01 -6.19099930e-01  1.25409988e+00\n",
      " -7.73162617e-01 -1.14433096e-02 -9.81863859e+00  1.95109398e-01\n",
      "  3.24870768e-01  3.44481674e-01  7.08232057e-02  1.39884005e-01\n",
      "  9.70703068e-01  8.86370750e-01  8.73741102e-01 -2.32328869e+00\n",
      "  3.71224704e-01  3.55087420e-01 -1.25497266e+00 -3.73647228e-01\n",
      " -2.75800178e+02  1.98337522e+00  1.98434034e-01  6.39596015e-01\n",
      " -8.76881389e-01  2.04635759e+00 -5.96973497e-01 -2.12545309e+00\n",
      " -1.63539021e-01  8.10667171e+00  4.42303703e-01  8.68825728e-01\n",
      "  5.05040574e-01  1.17989348e+00  4.29632902e-01 -2.20018450e-02\n",
      "  1.38774051e+00  6.51662420e-01  6.35235386e-01 -3.78628699e-02\n",
      "  3.50827051e-01 -8.07567125e-01 -3.00249605e+00  3.43281068e+00\n",
      "  7.62335609e-02 -1.99962525e+00 -1.10847687e+00  1.68076454e+00\n",
      " -9.49355970e-01 -5.06125365e+00  6.34605018e-01 -1.04092447e+00\n",
      "  5.10043827e+00 -2.44045384e-01  2.02429212e-01  1.77597693e+00\n",
      " -6.42963835e-01 -1.48365760e+01  1.90090579e-01  5.56755523e-01\n",
      "  2.13675842e+00 -1.04514618e-01  9.66570113e-01 -1.37935555e+00\n",
      "  1.31759838e+00  6.39669000e-01  9.07759193e-01 -1.74275485e+00\n",
      " -1.86631699e+00  3.50432186e+00  1.87225592e+00 -1.50568574e+00\n",
      " -1.78360992e+00  4.82221388e-01 -2.35926924e+02  1.45973310e+01\n",
      "  4.54196329e+00 -2.56371549e+00  2.25374581e+00 -4.83038597e-01\n",
      " -1.38820802e+00  6.90317928e-01  1.12352195e+03 -1.29835085e+01\n",
      " -2.59373457e+00 -5.72960199e-01 -9.76773927e-01 -2.50856360e+00\n",
      " -1.59023011e+00 -1.73655182e+00  8.18574511e-01 -1.90855679e+00\n",
      "  2.60853628e-02 -9.32580671e-01  5.27224662e+00  1.87716867e-01\n",
      "  1.72163425e-01  1.99826985e+00 -1.94807173e+00 -1.46548915e-01\n",
      "  2.66718878e-01  4.81909165e-02 -2.89746313e-01 -5.89672964e+00\n",
      "  1.10931408e+00  7.60348790e-01  4.99736542e+00 -5.39813309e-01\n",
      " -5.02892586e-02  6.55766532e-01 -2.11800921e+00 -8.99776661e-01\n",
      "  4.87878033e-01  1.02662471e+00 -5.40069712e-01 -2.61851894e+00\n",
      " -7.63281070e-01 -3.94284026e-01 -3.55764045e-01  1.03179579e+00\n",
      "  6.92688079e+00  2.87543554e+01 -2.50124314e+00 -1.27287274e+00\n",
      " -4.27813572e-01  5.75088866e-01 -2.47434593e+00  4.83164826e-01\n",
      " -6.89163018e+00 -8.60376922e-01 -2.25398450e+00  4.66366666e+01\n",
      "  1.44987990e-01 -3.24768685e-02 -3.43123545e-02  1.13738686e+00\n",
      " -2.53143372e-01  1.62700902e+00 -1.32048102e+00 -3.56062811e+00\n",
      "  8.44163969e-01  1.65273000e+00  7.19821072e-01 -7.26394489e-01\n",
      " -1.76358027e-01  5.33200807e-01  3.99164258e-01 -9.77014819e+00\n",
      " -1.12339118e+00 -4.14699956e-01 -1.83997946e-01 -7.34840130e+00\n",
      "  7.44181760e-01 -1.83244802e-01 -1.08677322e+00 -6.37994608e-01\n",
      "  1.26737932e+00  6.44574070e-01  1.36511687e+00  1.51820801e+00\n",
      " -2.80794475e+00  2.28066115e-01 -3.14869763e-01  1.00538097e+00\n",
      "  3.29537663e+00  6.55715731e-01  2.94891889e+00 -2.13240353e+00\n",
      " -4.41649232e+00  1.31309346e-01 -3.29718928e+00  1.50709132e+00\n",
      "  2.10244009e-01  6.31490060e-01  5.88012181e+00  2.80304565e+00\n",
      " -5.60850276e+00  8.45128944e-02 -8.23955374e+00 -1.09805065e+00\n",
      "  1.94875478e+00  1.60689293e+00 -4.55773850e-01 -7.99499743e-02\n",
      "  1.65141832e+00 -3.62948794e-01 -4.68565073e-01 -9.65745164e-03\n",
      "  1.15212948e+00  3.25256424e-01  1.92400160e+00 -5.50363286e-01\n",
      " -1.50075642e-01  9.30373175e-02 -6.20923518e+00 -7.99376576e-01\n",
      "  7.28767495e+00  5.50504683e+01 -1.32109975e-01 -1.08638305e+00\n",
      " -9.29759997e-02  4.13614226e+00 -1.17241389e+00  1.30987734e+00\n",
      " -1.27480945e-01  2.97508976e+00  6.10519496e-02 -5.47919012e-01\n",
      "  1.27550344e+01 -3.11800983e-01  4.65922059e-01 -3.94505760e+00\n",
      " -8.30584318e-01  9.28222709e+00 -3.84173737e-01 -6.59445820e-01\n",
      " -1.14559720e+00  2.96206125e-01 -3.31894083e+00  3.07682947e-01\n",
      " -7.34084676e-01 -2.16412106e+00 -1.00319056e+00  7.08372727e-02\n",
      " -8.77465076e+00 -7.80867675e-01  2.76280362e-01 -4.64116280e-01\n",
      "  7.07668843e-01 -4.68130225e+00  7.05575441e-02  1.50857428e+00\n",
      " -6.07187504e-02  1.06131759e-01  4.33373657e-01 -4.63777174e-01\n",
      "  1.91357087e+00  6.50135804e+00  6.83978894e-01 -6.88916109e-01\n",
      "  1.40350746e+00  9.51800473e-01  2.19631245e-01 -7.43360328e-01\n",
      "  2.46116009e-01 -4.03709675e+00  3.43079909e+00  4.45286403e+00\n",
      " -3.85366838e+00 -1.22607944e-01 -4.05062154e+00  1.78160105e-01\n",
      " -2.76232703e+00 -5.06604050e-01  1.32036177e+00  1.26654584e+02\n",
      "  2.61411699e+00  1.02105779e-01 -1.76358401e-01 -1.93065215e+02\n",
      " -1.02021818e+01 -2.08452583e+00 -7.96281180e-01 -3.09389201e-01\n",
      "  1.66213984e-01  3.62613381e-01 -5.24173090e-01  3.71564736e+00\n",
      "  1.52392082e-01  1.39958656e+00 -3.61199661e+00 -7.95823879e-01\n",
      "  5.60127196e+00 -8.11157200e-01 -3.45521605e-01 -1.17574237e-01\n",
      "  2.36980256e-01  8.15631817e-02 -2.46564451e+01  1.19721623e-01\n",
      " -2.67967949e+00 -8.42066064e-01  1.07626035e-01 -2.63692102e+00\n",
      "  4.45539970e+00 -1.74456524e-01 -1.62766661e-02 -1.02432032e-01\n",
      "  7.17522634e-01 -9.45891913e-02 -3.86318542e+00 -9.85009858e-01\n",
      " -8.47222953e-01  2.49888235e+00  2.75099407e+00 -2.55243674e-01\n",
      " -4.22978359e+00 -6.30537888e-01 -2.65273055e-01  4.80952040e+00\n",
      "  2.88514964e+00  1.04686441e-01 -1.95464986e+00  1.34765637e-01\n",
      "  2.08863471e+00 -8.31719391e-01  2.08344436e+00  2.37244917e+00\n",
      " -1.04496689e-03 -3.80282736e+00 -7.38328992e-01 -5.52489570e-02\n",
      "  2.69822925e-01  1.82908205e+00  3.73026149e-01 -4.52113937e-01\n",
      "  4.17856232e-01  2.30140069e+01 -1.04832611e+00  3.96408815e+01\n",
      "  1.12658124e+02 -7.77406471e-01  1.11934109e+00  1.21506220e-01\n",
      " -1.77987382e+00  1.79941967e+01  2.87882414e+01  3.21810451e-01\n",
      " -6.03430269e-01 -1.90503434e+00 -2.48504321e+01 -4.98577065e-01\n",
      "  5.63551839e-01 -1.96424634e+00  5.64388180e-01 -7.11492930e-01\n",
      " -4.16833761e-01 -1.04888116e+00  1.08406990e+00  1.68249484e+01\n",
      "  7.31871123e-01 -3.17333548e-01  9.44819931e-01  1.55113203e-01\n",
      "  6.95003658e-01 -5.61903956e-01  3.05419627e-01 -2.24552619e+00\n",
      "  1.58651309e-01  1.12576522e+00  4.06366660e-01  3.91556018e+00\n",
      "  4.02433957e-01  1.16215629e+00 -1.10734411e-01  1.00441933e+00\n",
      " -1.57612592e-01 -6.72161557e-01 -3.77015329e-01 -8.94514001e+00\n",
      " -3.44160464e+00 -5.37883175e-02 -1.10713290e+00  5.90107565e-03\n",
      " -1.09845150e+00 -9.86861202e+00  5.16571670e-01  5.19857270e-01\n",
      " -1.35165103e-01 -2.20546260e-01 -9.96397995e+00 -8.37808279e-02\n",
      "  6.09059525e-01  1.15008977e+00 -1.62114115e+00 -1.98313183e+00\n",
      " -3.48221524e-01 -1.05736940e+00 -1.57141171e+00 -9.19192430e-01\n",
      "  2.84581517e+00 -1.63145264e+00  5.62380427e-01  2.13485679e-01\n",
      " -2.28927082e-01 -8.46594284e+00 -9.21587463e-01 -2.73682530e+00\n",
      " -8.78642971e+00 -7.52587263e-01 -2.40471687e+00  1.10067609e-01\n",
      "  2.65401056e+01 -2.60534178e+00 -1.78877156e-01 -6.00800961e-01\n",
      " -3.89931424e+00 -1.21186489e-01  1.29813879e+00  5.99464544e-01\n",
      "  4.44537227e-01 -6.03626054e+00  6.68885848e-01  1.91268032e+00\n",
      " -2.53649848e+00  3.90846748e+00 -6.85246209e-02  6.01362734e+00\n",
      " -1.83537835e-01 -2.94807528e+00 -2.94441450e+00 -7.40649881e-01\n",
      " -4.74009446e+00 -7.21358345e-02 -1.32615097e-01 -1.02318641e+00\n",
      " -1.19624161e+00 -4.42884979e+00 -2.04991292e+01 -2.13417074e+01\n",
      " -5.34602044e-01 -3.85369194e+00 -5.95924161e+01 -4.21245299e+01\n",
      "  4.40790560e-01 -4.61052163e-01  2.85514535e+00 -1.25553518e+00\n",
      " -1.19458684e+00  2.87415267e-01 -5.70732508e-01  1.39904349e+00\n",
      " -1.65658572e+00  5.49773304e-02 -3.32515908e-01 -7.64824842e+00\n",
      " -2.12552184e+00  2.77362976e+00 -1.38748272e+00 -2.37776509e+00\n",
      " -3.46616110e-01 -1.72105201e+00 -8.42080159e-02  5.01058638e-01\n",
      " -1.08103817e+00 -1.10347158e+00 -4.27979757e-01  5.36846903e-01\n",
      "  2.25954270e+00 -1.05279930e+00  3.09452558e-01  4.05226694e-01\n",
      "  1.21124942e+00  1.64949019e+00  2.25157371e+00  1.42407540e+01\n",
      "  1.04994228e-01 -2.19990181e-01  2.00667981e+00  5.15094168e-02\n",
      "  3.08116527e-01  5.66534171e-01 -7.02612754e-01 -2.59231902e+00\n",
      " -2.98635335e-01 -1.53250802e+00 -4.17085325e-01  5.34454953e-01\n",
      " -8.60240297e-01  1.55338616e+00  9.50766697e-01  5.35948389e-01\n",
      "  5.25532568e+00  7.20457789e-01  1.12004527e+00 -8.18493738e-01\n",
      " -8.19302011e-01  2.32635366e+00  9.98510427e-01 -3.55664833e-01\n",
      " -2.83337809e-01  1.67278251e+00  2.48327104e-01 -1.26643904e+00\n",
      "  1.41924703e+00 -3.30537349e-01 -5.95472918e-02 -8.84769337e-01\n",
      " -7.12088159e-01 -4.82977337e-01 -2.65431341e+00  1.42954066e-02\n",
      "  2.16993924e-01  2.21264049e-01 -1.58328318e-01  9.15409801e-02\n",
      "  4.99147674e-01  5.58653270e-01  1.53338022e-01 -9.23732285e-02\n",
      " -5.84025640e+00 -3.51300023e+00  5.22842936e-01  1.83293820e-01\n",
      " -6.56073273e+00  4.93085410e-01 -3.28791285e-01  1.44003919e+00\n",
      " -1.84956531e+00  9.18893102e-01 -1.12235443e+00  3.87003932e+00\n",
      "  1.01241216e+00  4.42919841e-01 -9.70956486e-01 -3.02505964e-01\n",
      " -2.81351437e-01  1.29657167e-01  6.86927185e-01 -1.55326502e+00\n",
      " -1.27471278e+00 -1.26902082e+00  9.67446245e-01  1.50856912e+00\n",
      "  1.09042303e+00  6.83594293e+00  2.41592908e+01 -2.08269731e+00\n",
      " -2.15022646e+00  1.66686458e+01 -7.34381569e-01 -1.99514808e+00\n",
      "  7.62437763e-01  1.65936703e+00 -1.34055384e-01 -3.15512033e-01\n",
      "  5.48716173e-01 -1.94727571e-02 -4.94530044e+01 -1.40869600e+00\n",
      " -1.41328658e+00 -3.31012912e+00  8.28786849e-01  1.25202456e+00\n",
      "  5.07436663e+00  4.57550127e+00 -3.05698478e+00 -1.96261017e-01\n",
      "  7.94587790e-02  1.29687192e+00 -6.64543196e+01 -1.24523200e+00\n",
      " -9.76732191e-02 -1.00307318e+00  7.52402130e-01  3.24946461e-01\n",
      " -8.28707631e-01 -1.68473715e+00 -2.50442726e+00 -9.08544174e-01\n",
      "  1.00863629e+00  7.26426319e-01 -2.58331916e-01 -4.22837286e+00\n",
      "  2.15614749e+00 -3.47147743e-01 -4.77833424e+00 -1.51809678e+00\n",
      " -1.20658042e+01 -1.62092521e+00  6.24554300e-01  1.05518608e+00\n",
      " -9.24437164e-02  9.75843987e-01 -1.91813008e+00  1.70631540e+00\n",
      " -4.23932452e-01  1.70600555e+00  1.66096078e-01 -3.60890706e+00\n",
      "  4.13715025e-01  2.43254182e+01  6.18934537e-01 -1.73434034e-01\n",
      " -3.65034999e+00  5.13233649e+00 -7.53507350e+00  3.17028996e+00\n",
      "  5.26853270e-01 -4.75910438e+00 -2.06943828e+00  6.60962379e-01\n",
      " -2.47771316e-01 -1.55487934e-01  1.22653721e+00  4.74803115e+01\n",
      " -2.95819212e-01  1.24835166e+00  3.01437694e-01 -6.14334111e-01\n",
      "  6.69530659e-02  3.08372939e+00  4.16189913e+00  1.45159689e+00\n",
      "  1.37150155e+00 -6.44179795e-02  7.56049847e+00 -3.76960317e+00\n",
      " -1.57517534e+00 -1.12863814e+00 -5.67184858e-02 -9.80130330e-02\n",
      " -1.05148855e-01 -3.23217571e-01  1.93089770e-01  3.28924301e-01\n",
      "  2.36909209e+00 -2.54426030e-01  6.69034625e-01 -4.16301067e+00\n",
      " -5.06640469e+00 -1.30498106e+00  4.92524898e-01  4.46653772e+00\n",
      "  5.09078124e-01 -3.77130818e-02 -3.10209119e+00  4.33911275e+00\n",
      " -1.23304529e+00  1.45546741e-01 -4.05865225e-01 -3.47325795e+00\n",
      "  1.09842895e+00  1.41431296e+00  1.48663664e+00 -3.58241346e-01\n",
      "  9.26399767e-02 -8.11745885e-01  1.16806432e-01 -1.26478991e+00\n",
      "  1.14036880e+01  1.36532342e+00 -2.88554005e+00 -6.61494161e-01\n",
      " -2.53995810e+00 -4.71258647e-01  3.22824874e+00  1.24855060e+00\n",
      " -1.63006516e-01  7.70345040e-01  3.58932449e-01  1.88926208e-01\n",
      "  1.23612385e+00 -1.63221232e+00  4.40031829e-02  1.16443144e+00\n",
      "  2.14011280e+00 -1.03679818e+00 -2.82568837e-01  2.36354023e+00\n",
      "  3.18883375e-01 -1.41621646e+00 -5.55881107e-01  2.23008417e-01\n",
      "  1.07052400e-01  1.80386421e+01  1.27946973e+00  7.56015414e-01\n",
      "  1.58865834e+00  5.54733298e-01  4.83021803e-01  2.95959950e+00\n",
      "  5.57772141e-01 -7.51106037e-01 -2.19678536e+00 -8.64367134e+01\n",
      "  1.81396339e-01  1.50423207e+01 -1.53134968e-01  2.89683016e-02\n",
      "  1.93274134e+00 -5.62068465e+00 -1.51373157e+00  1.92623959e+00\n",
      "  2.15845898e+00 -2.37515549e+00  8.28168927e+00  2.91997443e+01\n",
      " -2.72713750e-01 -4.97459136e+00 -8.95469923e-02 -1.53426380e+02\n",
      " -3.00531536e-01 -1.76163042e+00 -1.80758221e-01 -3.29166973e-01\n",
      " -1.64211462e-02  9.25899412e+00 -1.70214070e+00 -3.19089358e+00\n",
      " -2.97978374e+00  3.09396351e+00  1.95504943e+01  6.33840884e-01\n",
      "  9.92607416e+00  6.06762606e-03  4.03821730e+00  5.27976826e-01\n",
      " -6.22330709e+00  1.84310711e+00 -8.78058752e+00  1.79530136e+00\n",
      "  1.47971509e+00 -1.16883163e-01 -1.18271134e+00 -2.03018820e+00\n",
      "  6.26836714e-01  1.18658245e+01  5.06201689e-01  6.38202429e-01\n",
      "  6.06055405e-01  1.62740174e+00 -1.86853581e+00  1.31373872e+00\n",
      " -4.32492107e+00 -1.90842187e-01  9.05068555e-02 -6.58365112e-01\n",
      "  1.27768408e-01 -4.38825073e-01  5.71456709e-01  1.32920354e+00\n",
      "  1.49310772e+00 -6.57473782e-01 -1.47085197e+00 -9.20284523e-02\n",
      " -4.70801554e+00 -4.68585281e-01 -8.63506992e-01  2.87264320e+00\n",
      "  7.31516616e-03  3.06269815e+00 -5.27541322e-02 -2.54139913e+00\n",
      " -2.59138918e-01 -5.45967320e-01  1.43392677e+00 -6.61458482e+00\n",
      "  8.63421514e-01  2.84619780e-01 -7.56270813e-01  5.72921051e+00\n",
      " -8.51447262e-01  3.08947796e-01  7.73997171e-01  2.61013178e-01\n",
      " -5.17254883e-01  2.16860984e+00 -1.10998265e+00 -8.19315578e-01\n",
      "  1.00008471e+00 -1.98339059e+01  2.81630741e-01  1.87081614e-01\n",
      "  4.75604295e+00 -2.46196955e+00 -1.01508418e-01  1.57906605e+00\n",
      "  6.81980729e-01  4.30326945e-01  1.39342328e+00  3.58389947e-01\n",
      "  2.45105164e+01  9.10548837e-01  1.56161309e-01  2.82832713e+00\n",
      "  4.60432626e-01  1.35984775e+00  5.59991807e-01 -2.16486620e+01\n",
      "  3.91730479e-01  6.65836679e-01  5.14413368e+00 -1.52490092e+00\n",
      " -1.80365486e+00 -2.10253337e+00 -4.19505118e+00  2.59475332e+00\n",
      " -1.62666122e+00 -8.47877525e-01  2.60768897e+00  5.21461489e-01\n",
      "  7.24841595e-01  2.92391703e-01  5.74811509e-01  1.03591905e+00\n",
      " -3.59045910e-01 -1.55149189e+00 -1.11947722e+01 -2.86658822e-01\n",
      "  3.75344803e+00  9.73409316e-01 -2.05154710e+00 -3.24880271e-02\n",
      " -1.30112350e+00  8.88171714e-02 -4.48860193e-01 -9.11423630e-01\n",
      " -1.20685190e+00  1.56433094e+01 -2.19169864e+01  5.46279336e-01\n",
      "  3.47221649e+01 -1.64053353e+00 -7.44443830e-01  3.56076635e-01\n",
      " -6.99220395e-01 -6.23609886e-01  2.85848657e-01 -1.31740282e+00\n",
      " -7.19075694e+00  1.17122869e+00  2.60034206e+00 -1.21171439e+00\n",
      " -9.92613811e-01 -3.09051447e-02 -8.74545885e-01 -2.74637751e-01\n",
      " -5.41995612e-01  8.82159169e-01 -4.78889773e-01  2.14851482e+00\n",
      "  5.11357310e+00 -1.15738807e-01  2.06946505e+00  1.43487648e+00\n",
      " -1.07146264e+00  1.08269611e+00  1.21882123e+00  7.99246639e+00\n",
      " -8.14413111e-01 -1.24903754e+00  1.34540625e+00  1.25169223e+00\n",
      " -1.29556671e+00  5.84045782e+00  1.30384508e+02 -2.91958878e+01\n",
      "  6.46243048e+00  4.65308512e-02 -7.99182129e-02 -9.91333175e-01\n",
      "  1.77571902e+02 -9.76530207e+00 -9.31951341e-02 -2.54923141e-01\n",
      "  2.36082367e+00 -6.48867363e+00  2.70873060e+01 -1.11969392e+01\n",
      " -3.42842164e+00  1.50281253e+00 -3.87555483e-01 -4.65588883e-02\n",
      "  6.15048694e-01 -6.27941678e-01  4.44814098e-01  9.35834221e-01\n",
      " -4.01294196e+01  8.63674657e-02 -1.36003866e+00  2.18366778e+00\n",
      "  1.28834765e+01 -5.29612325e-01  2.41309495e-01  4.70859891e+00\n",
      " -1.32410344e+00  1.83899037e+00 -3.77811480e+00  1.47312621e-01\n",
      " -6.21380893e-01 -4.71036244e-01  1.19008439e+00  8.94055984e-01\n",
      " -1.51776867e+00  1.11262907e+00 -1.31120513e+00  5.51106944e-01\n",
      " -2.07529879e+00 -2.62775365e+00 -5.09507443e-01 -1.83050484e+00\n",
      " -1.05082789e+00 -6.08627769e-01  1.24084249e+00 -4.14616071e-01\n",
      "  8.26274600e-01  4.49321328e-01  7.53889872e-01  1.14545326e+00\n",
      " -1.47323699e+01 -3.90981341e-01 -4.57049789e-01  9.92564708e+00\n",
      "  1.54911182e+00  4.78107049e-02 -4.64659459e-02  9.76443746e-01\n",
      " -5.35915400e+01 -8.01089695e-03 -6.46081609e-01  1.14055045e-01\n",
      "  1.51470981e+00 -7.60449459e-01 -2.07026752e+00 -4.16101156e-01\n",
      " -3.49731152e+00 -5.02401882e+00  1.14035938e-01 -8.23073032e-02\n",
      " -1.58778117e+00 -6.98923000e-01 -1.40522523e+00 -4.88021412e+00\n",
      "  1.64499294e+00 -2.37172875e+00  6.78704494e-01 -2.04134416e-01\n",
      " -7.40758298e-01  7.58422049e-01  6.07998859e+00  1.71437601e+00\n",
      "  6.61743545e+00 -1.32266851e+01 -6.83208293e-01 -4.29964956e+00\n",
      " -1.16898202e+00 -1.06951162e-01 -9.89272419e-01 -4.47282906e+00\n",
      " -1.65049748e+00  1.09482312e+00  1.23746262e+00  2.53256064e+00\n",
      " -2.02626199e+00 -1.59652987e+00  4.67249710e-01 -1.65033212e+00\n",
      " -2.22142349e+00 -1.45994592e+00 -3.76198270e-01  2.74459304e+00\n",
      " -1.24577299e+00  1.66949858e+00  1.11333908e+00  8.68371788e+00\n",
      " -9.52245334e-01 -1.61287155e+00  3.63669208e+00 -1.16324899e+00\n",
      " -1.26586096e-01 -5.77848464e-02  4.74417141e+01 -9.72576649e-01\n",
      "  6.17772794e+00  2.14258558e+00  6.06113880e-01 -2.03115296e-01\n",
      " -4.81302313e-01  4.39301945e-01 -7.49514654e-01  7.45933135e-01\n",
      " -3.38707563e+00 -1.07892973e+00  4.61800540e-01 -3.13729424e+00\n",
      "  5.95425068e-01  5.82194078e-02 -2.04986248e+01  1.76691405e+00\n",
      "  8.94789664e-01  8.39776013e-01 -7.57638912e-01 -5.97333243e-01\n",
      "  2.48553074e+00  2.44574336e-01 -6.42737303e+00  1.06649277e+00]\n"
     ]
    },
    {
     "data": {
      "image/png": "[encoded data removed]",
      "text/plain": [
       "<Figure size 640x480 with 1 Axes>"
      ]
     },
     "metadata": {},
     "output_type": "display_data"
    }
   ],
   "source": [
    "#Set a seed with a number 612\n",
    "np.random.seed(612)\n",
    "\n",
    "#Define parameters and sample size and assign them to pre-specified values ahead of time.\n",
    "df = 1\n",
    "size = 1000\n",
    "\n",
    "#numpy.random.standard_t(df, size=None)\n",
    "student_t_samples = np.random.standard_t(df=df, size=size)\n",
    "print(\"student_t_samples=\", student_t_samples)\n",
    "\n",
    "plt.hist(student_t_samples, bins=50, color=\"skyblue\")\n",
    "plt.xlabel(\"Value\")\n",
    "plt.ylabel(\"Frequency\")\n",
    "plt.title(\"Histogram of Student-T distribution\")\n",
    "plt.show()"
   ]
  },
  {
   "attachments": {},
   "cell_type": "markdown",
   "metadata": {},
   "source": [
    "## (d) Checking whether word is part of list\n",
    "\n",
    "- Define a variable `disease_type_str` with the value **\"Phobic anxiety disorders\"** **(1')**\n",
    "- Define a list of anxiety types `anxiety_ls` with names from the following link: **(1')**\n",
    "    - https://www.icd10data.com/ICD10CM/Codes/F01-F99/F40-F48\n",
    "    - This is the code for diagnoses related to mental health, specifically anxiety, dissociative, stress-related, somatoform, and other nonpsychotic mental disorders.\n",
    "    - Do not copy the codes!\n",
    "- Use `anxiety_ls.index()` function to export and print out the location of **\"Somatoform disorders\"** **(1')** \n",
    "- Write an expression to test whether `disease_type_str` is contained in `anxiety_ls` and store the result in a variable `result_bool_1` **(1')**\n",
    "- Change `disease_type_str` to **\"Manic episode\"** and replicate the above step with another resulting variable `result_bool_2` **(1')**\n",
    "\n",
    "To get full points run all of the above commands"
   ]
  },
  {
   "cell_type": "code",
   "execution_count": 64,
   "metadata": {},
   "outputs": [
    {
     "name": "stdout",
     "output_type": "stream",
     "text": [
      "location of somatoform disorders= 5\n",
      "result_bool1 = True\n",
      "result_bool2 = False\n"
     ]
    }
   ],
   "source": [
    "# Define a variable disease_type_str with the value \"Phobic anxiety disorders\"\n",
    "\n",
    "disease_type_str = \"Phobic anxiety disorders\"\n",
    "\n",
    "#Define a list of anxiety types anxiety_ls with names from the following link\n",
    "\n",
    "anxiety_ls = [\"Phobic anxiety disorders\", \"Other anxiety disorders\", \"Obsessive-compulsive disorder\", \"Reaction to severe stress, and adjustment disorders\", \"Dissociative and conversion disorders\", \"Somatoform disorders\", \"Other nonpsychotic mental disorders\"]\n",
    "\n",
    "#Use anxiety_ls.index() function to export and print out the location of \"Somatoform disorders\"\n",
    "\n",
    "location_somatoform = anxiety_ls.index(\"Somatoform disorders\")\n",
    "print(\"location of somatoform disorders=\", location_somatoform)\n",
    "\n",
    "#Write an expression to test whether disease_type_str is contained in anxiety_ls and store the result in a variable result_bool_1\n",
    "\n",
    "result_bool_1 = disease_type_str in anxiety_ls\n",
    "print(\"result_bool1 =\", result_bool_1)\n",
    "\n",
    "#Change disease_type_str to \"Manic episode\" and replicate the above step with another resulting variable result_bool_2\n",
    "\n",
    "disease_type_str = \"Manic episode\"\n",
    "result_bool_2 = disease_type_str in anxiety_ls\n",
    "print(\"result_bool2 =\", result_bool_2)"
   ]
  },
  {
   "cell_type": "markdown",
   "metadata": {},
   "source": [
    "## (e) Classifying the anxiety level based on GAD-7 evaluation\n",
    "\n",
    "Generalized Anxiety Disorder can be evaluated using a 7-item questionnaire (GAD-7) with a total score ranging from 0 to 21, where higher scores indicate more severe anxiety. \n",
    "- The score levels are generally interpreted as\n",
    "    - 0-4: Minimal\n",
    "    - 5-9: Mild\n",
    "    - 10-14: Moderate\n",
    "    - 15-21: Severe\n",
    "- A score >= 10 suggested a potential diagnosis of GAD, warranting further clinical evaluation or intervention.\n",
    "- You can find more details here: https://adaa.org/sites/default/files/GAD-7_Anxiety-updated_0.pdf.\n",
    "- Define a new variable `gad7_val` and assign the value to 6, 12, and 20. \n",
    "- Write an `if/elif/else` statement that prints out the corresponding ordinal level for the above three numerical values. **(2')**\n",
    "- Since we haven't covered functions yet, when you change `gad7_val` to a new value, you need to copy your existing control flow codes and reun them in a new code chunk. I provide three empty code chunks below for you to work on each scenario. **(3')** Each scenario's output counts as 1 point."
   ]
  },
  {
   "cell_type": "code",
   "execution_count": 67,
   "metadata": {},
   "outputs": [
    {
     "name": "stdout",
     "output_type": "stream",
     "text": [
      "level = Mild\n"
     ]
    }
   ],
   "source": [
    "# Define a new variable gad7_val and assign the value to 6, 12, and 20.\n",
    "gad7_val = 6\n",
    "\n",
    "if 0 <= gad7_val <=4:\n",
    "    print(\"level = Minimal\")\n",
    "elif 5 <= gad7_val <=9:\n",
    "    print(\"level = Mild\")\n",
    "elif 10 <= gad7_val <=14:\n",
    "    print(\"level = Moderate\")\n",
    "elif 15 <= gad7_val <=21:\n",
    "    print(\"level = Severe\")\n",
    "\n"
   ]
  },
  {
   "cell_type": "code",
   "execution_count": 68,
   "metadata": {},
   "outputs": [
    {
     "name": "stdout",
     "output_type": "stream",
     "text": [
      "level = Moderate\n"
     ]
    }
   ],
   "source": [
    "gad7_val = 12\n",
    "\n",
    "if 0 <= gad7_val <=4:\n",
    "    print(\"level = Minimal\")\n",
    "elif 5 <= gad7_val <=9:\n",
    "    print(\"level = Mild\")\n",
    "elif 10 <= gad7_val <=14:\n",
    "    print(\"level = Moderate\")\n",
    "elif 15 <= gad7_val <=21:\n",
    "    print(\"level = Severe\")"
   ]
  },
  {
   "cell_type": "code",
   "execution_count": 69,
   "metadata": {},
   "outputs": [
    {
     "name": "stdout",
     "output_type": "stream",
     "text": [
      "level = Severe\n"
     ]
    }
   ],
   "source": [
    "gad7_val = 20\n",
    "\n",
    "if 0 <= gad7_val <=4:\n",
    "    print(\"level = Minimal\")\n",
    "elif 5 <= gad7_val <=9:\n",
    "    print(\"level = Mild\")\n",
    "elif 10 <= gad7_val <=14:\n",
    "    print(\"level = Moderate\")\n",
    "elif 15 <= gad7_val <=21:\n",
    "    print(\"level = Severe\")"
   ]
  },
  {
   "cell_type": "code",
   "execution_count": null,
   "metadata": {},
   "outputs": [],
   "source": []
  }
 ],
 "metadata": {
  "kernelspec": {
   "display_name": "Python 3 (ipykernel)",
   "language": "python",
   "name": "python3"
  },
  "language_info": {
   "codemirror_mode": {
    "name": "ipython",
    "version": 3
   },
   "file_extension": ".py",
   "mimetype": "text/x-python",
   "name": "python",
   "nbconvert_exporter": "python",
   "pygments_lexer": "ipython3",
   "version": "3.13.7"
  },
  "vscode": {
   "interpreter": {
    "hash": "aee8b7b246df8f9039afb4144a1f6fd8d2ca17a180786b69acc140d282b71a49"
   }
  }
 },
 "nbformat": 4,
 "nbformat_minor": 4
}
